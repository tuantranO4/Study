{
 "cells": [
  {
   "cell_type": "code",
   "execution_count": null,
   "metadata": {},
   "outputs": [],
   "source": [
    "# problem 1\n",
    "def count_twin_primes(a: Integer, b: Integer) -> Integer:\n",
    "    count = 0\n",
    "    for n in range(a, b-1):\n",
    "        if is_prime(n) and is_prime(n+2):\n",
    "            count += 1\n",
    "    \n",
    "    return count"
   ]
  },
  {
   "cell_type": "code",
   "execution_count": null,
   "metadata": {},
   "outputs": [],
   "source": [
    "# problem 2\n",
    "perfect_numbers = []\n",
    "for n in range(301, 1001):\n",
    "    ds = divisors(n)\n",
    "    if sum(ds[:-1]) == n:\n",
    "        perfect_numbers.append(n)\n",
    "print(perfect_numbers)\n"
   ]
  },
  {
   "cell_type": "code",
   "execution_count": null,
   "metadata": {},
   "outputs": [],
   "source": [
    "# problem 3\n",
    "a = 6\n",
    "b = 11\n",
    "c = 100\n",
    "d, x, y = xgcd(a, b) #-xgcd(a,b): returns ax+by=gcd(a,b) tuple of (gcd, x, y). 6x+11y=1\n",
    "assert c % d == 0 # ensures that a solution exists for 6x+11y=100\n",
    "\n",
    "m = c // d #m=100\n",
    "x *= m #scaling equation with m (eg: 2, -1 (x,y,1) -> 200, -100 (x,y,100))\n",
    "y *= m\n",
    "u = a // d    #// - floor division; u=6\n",
    "v = b // d    # v = 11\n",
    "\n",
    "while x > 0:\n",
    "    x -= v #x-6\n",
    "    y += u #y+11\n",
    "#bruteforce \n",
    "while x < 0:\n",
    "    x += v #x+6\n",
    "    y -= u #y-11\n",
    "\n",
    "while x >= 0 and y >= 0:\n",
    "    print(x, y)\n",
    "    x += v\n",
    "    y -= u"
   ]
  },
  {
   "cell_type": "code",
   "execution_count": null,
   "metadata": {},
   "outputs": [],
   "source": [
    "# problem 4\n",
    "def solve_lincong(a: Integer, b: Integer, m: Integer) -> [Integer]:\n",
    "    d, x, _ = xgcd(a, m)\n",
    "    if b % d != 0:\n",
    "        return []\n",
    "    \n",
    "    return [((x * b // d) + k * (m // d)) % m for k in range(d)]\n",
    "\n",
    "aa = [1, 4, 2]\n",
    "bb = [3, 2, 5]\n",
    "mm = [5, 6, 7]\n",
    "\n",
    "solved_bb = []\n",
    "for a, b, m in zip(aa, bb, mm):\n",
    "    if a == 1:\n",
    "        solved_bb.append(b)\n",
    "    else:\n",
    "        current_bs = solve_lincong(a, b, m)\n",
    "        solved_bb.append(current_bs[-1])\n",
    "\n",
    "crt(solved_bb, mm)"
   ]
  }
 ],
 "metadata": {
  "language_info": {
   "name": "python"
  }
 },
 "nbformat": 4,
 "nbformat_minor": 2
}
