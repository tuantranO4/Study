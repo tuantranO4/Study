{
 "cells": [
  {
   "cell_type": "code",
   "execution_count": 1,
   "id": "f889ce",
   "metadata": {
    "collapsed": false,
    "vscode": {
     "languageId": "python"
    }
   },
   "outputs": [
    {
     "data": {
      "text/plain": [
       "43"
      ]
     },
     "execution_count": 1,
     "metadata": {
     },
     "output_type": "execute_result"
    }
   ],
   "source": [
    "a = 47\n",
    "b = 49\n",
    "c = 10**5\n",
    "d, x, y = xgcd(a, b)\n",
    "assert c % d == 0\n",
    "\n",
    "m = c // d\n",
    "x *= m\n",
    "y *= m\n",
    "u = a // d\n",
    "v = b // d\n",
    "\n",
    "while x > 0:\n",
    "    x -= v\n",
    "    y += u\n",
    "\n",
    "while x < 0:\n",
    "    x += v\n",
    "    y -= u\n",
    "\n",
    "count = 0\n",
    "while x >= 0 and y >= 0:\n",
    "    count += 1\n",
    "    x += v\n",
    "    y -= u\n",
    "count"
   ]
  },
  {
   "cell_type": "code",
   "execution_count": 2,
   "id": "c30af5",
   "metadata": {
    "collapsed": false,
    "vscode": {
     "languageId": "python"
    }
   },
   "outputs": [
    {
     "data": {
      "text/plain": [
       "7"
      ]
     },
     "execution_count": 2,
     "metadata": {
     },
     "output_type": "execute_result"
    }
   ],
   "source": [
    "a = 80\n",
    "b = 20\n",
    "c = 2500\n",
    "\n",
    "d, x, y = xgcd(a, b)\n",
    "assert c % d == 0\n",
    "\n",
    "m = c // d\n",
    "x *= m\n",
    "y *= m\n",
    "u = a // d\n",
    "v = b // d\n",
    "\n",
    "while x > 0:\n",
    "    x -= v\n",
    "    y += u\n",
    "\n",
    "while x < 0:\n",
    "    x += v\n",
    "    y -= u\n",
    "\n",
    "count = 0\n",
    "while x >= 0 and y >= 0:\n",
    "    z = 50 - x - y\n",
    "    if z >= 0:\n",
    "        count += 1\n",
    "\n",
    "    x += v\n",
    "    y -= u\n",
    "\n",
    "count"
   ]
  },
  {
   "cell_type": "code",
   "execution_count": 4,
   "id": "5b4cf4",
   "metadata": {
    "collapsed": false,
    "vscode": {
     "languageId": "python"
    }
   },
   "outputs": [
   ],
   "source": [
    "def compute_residue_classes(numbers: list[Integer], m: Integer) -> list[list[Integer]]:\n",
    "    result = [[] for _ in range(m)]\n",
    "    for number in numbers:\n",
    "        result[number % m].append(number)\n",
    "    \n",
    "    return result\n",
    "\n",
    "assert compute_residue_classes([0, 1, 2, 3], 3) == [[0,3], [1], [2]]\n",
    "assert compute_residue_classes([0, 1, 3], 5) == [[0], [1], [], [3], []]"
   ]
  },
  {
   "cell_type": "code",
   "execution_count": 5,
   "id": "9f6e49",
   "metadata": {
    "collapsed": false,
    "vscode": {
     "languageId": "python"
    }
   },
   "outputs": [
   ],
   "source": [
    "def fast_mod_exp(x: Integer, n: Integer, m: Integer) -> Integer:\n",
    "    y = 1\n",
    "    while n > 0:\n",
    "        n, r = divmod(n, 2)\n",
    "        if r == 1:\n",
    "            y = (y * x) % m\n",
    "        x = (x * x) % m\n",
    "    return y\n",
    "\n",
    "\n",
    "for x in range(1, 10):\n",
    "    for n in range(1, 10):\n",
    "        for m in range(2, 5):\n",
    "            assert fast_mod_exp(x, n, m) == x**n % m"
   ]
  },
  {
   "cell_type": "code",
   "execution_count": 23,
   "id": "3439e6",
   "metadata": {
    "collapsed": false,
    "vscode": {
     "languageId": "python"
    }
   },
   "outputs": [
   ],
   "source": [
    "def solve_lincong(a: Integer, b: Integer, m: Integer) -> [Integer]:\n",
    "    d, x, _ = xgcd(a, m)\n",
    "    if b % d != 0:\n",
    "        return []\n",
    "    \n",
    "    return [((x * b // d) + k * (m // d)) % m for k in range(d)]\n",
    "\n",
    "var('x')\n",
    "for a in range(1, 10):\n",
    "    for b in range(1, 10):\n",
    "        for m in range(2, 10):\n",
    "            lhs = sorted(solve_lincong(a, b, m))\n",
    "            rhs = sorted(list(map(lambda y: y[0], solve_mod([a*x == b], m))))\n",
    "            assert lhs == rhs\n"
   ]
  },
  {
   "cell_type": "code",
   "execution_count": 29,
   "id": "5dde9c",
   "metadata": {
    "collapsed": false,
    "vscode": {
     "languageId": "python"
    }
   },
   "outputs": [
    {
     "data": {
      "text/plain": [
       "19"
      ]
     },
     "execution_count": 29,
     "metadata": {
     },
     "output_type": "execute_result"
    }
   ],
   "source": [
    "aa = [3, 4]\n",
    "bb = [2, 6]\n",
    "mm = [11, 7]\n",
    "\n",
    "solved_bb = []\n",
    "for a, b, m in zip(aa, bb, mm):\n",
    "    current_bs = solve_lincong(a, b, m)\n",
    "    solved_bb.append(current_bs[-1])\n",
    "\n",
    "crt(solved_bb, mm)"
   ]
  },
  {
   "cell_type": "code",
   "execution_count": 30,
   "id": "b0f9cb",
   "metadata": {
    "collapsed": false,
    "vscode": {
     "languageId": "python"
    }
   },
   "outputs": [
    {
     "ename": "ValueError",
     "evalue": "no solution to crt problem since gcd(13,13) does not divide 6-10",
     "output_type": "error",
     "traceback": [
      "\u001b[0;31m---------------------------------------------------------------------------\u001b[0m",
      "\u001b[0;31mValueError\u001b[0m                                Traceback (most recent call last)",
      "Cell \u001b[0;32mIn[30], line 10\u001b[0m\n\u001b[1;32m      7\u001b[0m     current_bs \u001b[38;5;241m=\u001b[39m solve_lincong(a, b, m)\n\u001b[1;32m      8\u001b[0m     solved_bb\u001b[38;5;241m.\u001b[39mappend(current_bs[\u001b[38;5;241m-\u001b[39mInteger(\u001b[38;5;241m1\u001b[39m)])\n\u001b[0;32m---> 10\u001b[0m \u001b[43mcrt\u001b[49m\u001b[43m(\u001b[49m\u001b[43msolved_bb\u001b[49m\u001b[43m,\u001b[49m\u001b[43m \u001b[49m\u001b[43mmm\u001b[49m\u001b[43m)\u001b[49m\n",
      "File \u001b[0;32m~/miniforge3/envs/sage/lib/python3.11/site-packages/sage/arith/misc.py:3451\u001b[0m, in \u001b[0;36mcrt\u001b[0;34m(a, b, m, n)\u001b[0m\n\u001b[1;32m   3330\u001b[0m \u001b[38;5;250m\u001b[39m\u001b[38;5;124mr\u001b[39m\u001b[38;5;124;03m\"\"\"\u001b[39;00m\n\u001b[1;32m   3331\u001b[0m \u001b[38;5;124;03mReturn a solution to a Chinese Remainder Theorem problem.\u001b[39;00m\n\u001b[1;32m   3332\u001b[0m \n\u001b[0;32m   (...)\u001b[0m\n\u001b[1;32m   3448\u001b[0m \u001b[38;5;124;03m    58\u001b[39;00m\n\u001b[1;32m   3449\u001b[0m \u001b[38;5;124;03m\"\"\"\u001b[39;00m\n\u001b[1;32m   3450\u001b[0m \u001b[38;5;28;01mif\u001b[39;00m \u001b[38;5;28misinstance\u001b[39m(a, \u001b[38;5;28mlist\u001b[39m):\n\u001b[0;32m-> 3451\u001b[0m     \u001b[38;5;28;01mreturn\u001b[39;00m \u001b[43mCRT_list\u001b[49m\u001b[43m(\u001b[49m\u001b[43ma\u001b[49m\u001b[43m,\u001b[49m\u001b[43m \u001b[49m\u001b[43mb\u001b[49m\u001b[43m)\u001b[49m\n\u001b[1;32m   3453\u001b[0m \u001b[38;5;28;01mtry\u001b[39;00m:\n\u001b[1;32m   3454\u001b[0m     f \u001b[38;5;241m=\u001b[39m (b\u001b[38;5;241m-\u001b[39ma)\u001b[38;5;241m.\u001b[39mquo_rem\n",
      "File \u001b[0;32m~/miniforge3/envs/sage/lib/python3.11/site-packages/sage/arith/misc.py:3567\u001b[0m, in \u001b[0;36mCRT_list\u001b[0;34m(values, moduli)\u001b[0m\n\u001b[1;32m   3565\u001b[0m vs, ms \u001b[38;5;241m=\u001b[39m values[::\u001b[38;5;241m2\u001b[39m], moduli[::\u001b[38;5;241m2\u001b[39m]\n\u001b[1;32m   3566\u001b[0m \u001b[38;5;28;01mfor\u001b[39;00m i, (v, m) \u001b[38;5;129;01min\u001b[39;00m \u001b[38;5;28menumerate\u001b[39m(\u001b[38;5;28mzip\u001b[39m(values[\u001b[38;5;241m1\u001b[39m::\u001b[38;5;241m2\u001b[39m], moduli[\u001b[38;5;241m1\u001b[39m::\u001b[38;5;241m2\u001b[39m])):\n\u001b[0;32m-> 3567\u001b[0m     vs[i] \u001b[38;5;241m=\u001b[39m \u001b[43mCRT\u001b[49m\u001b[43m(\u001b[49m\u001b[43mvs\u001b[49m\u001b[43m[\u001b[49m\u001b[43mi\u001b[49m\u001b[43m]\u001b[49m\u001b[43m,\u001b[49m\u001b[43m \u001b[49m\u001b[43mv\u001b[49m\u001b[43m,\u001b[49m\u001b[43m \u001b[49m\u001b[43mms\u001b[49m\u001b[43m[\u001b[49m\u001b[43mi\u001b[49m\u001b[43m]\u001b[49m\u001b[43m,\u001b[49m\u001b[43m \u001b[49m\u001b[43mm\u001b[49m\u001b[43m)\u001b[49m\n\u001b[1;32m   3568\u001b[0m     ms[i] \u001b[38;5;241m=\u001b[39m lcm(ms[i], m)\n\u001b[1;32m   3569\u001b[0m values, moduli \u001b[38;5;241m=\u001b[39m vs, ms\n",
      "File \u001b[0;32m~/miniforge3/envs/sage/lib/python3.11/site-packages/sage/arith/misc.py:3465\u001b[0m, in \u001b[0;36mcrt\u001b[0;34m(a, b, m, n)\u001b[0m\n\u001b[1;32m   3463\u001b[0m q, r \u001b[38;5;241m=\u001b[39m f(g)\n\u001b[1;32m   3464\u001b[0m \u001b[38;5;28;01mif\u001b[39;00m r \u001b[38;5;241m!=\u001b[39m \u001b[38;5;241m0\u001b[39m:\n\u001b[0;32m-> 3465\u001b[0m     \u001b[38;5;28;01mraise\u001b[39;00m \u001b[38;5;167;01mValueError\u001b[39;00m(\u001b[38;5;124m\"\u001b[39m\u001b[38;5;124mno solution to crt problem since gcd(\u001b[39m\u001b[38;5;132;01m%s\u001b[39;00m\u001b[38;5;124m,\u001b[39m\u001b[38;5;132;01m%s\u001b[39;00m\u001b[38;5;124m) does not divide \u001b[39m\u001b[38;5;132;01m%s\u001b[39;00m\u001b[38;5;124m-\u001b[39m\u001b[38;5;132;01m%s\u001b[39;00m\u001b[38;5;124m\"\u001b[39m \u001b[38;5;241m%\u001b[39m (m, n, a, b))\n\u001b[1;32m   3466\u001b[0m \u001b[38;5;28;01mfrom\u001b[39;00m \u001b[38;5;21;01msage\u001b[39;00m\u001b[38;5;21;01m.\u001b[39;00m\u001b[38;5;21;01marith\u001b[39;00m\u001b[38;5;21;01m.\u001b[39;00m\u001b[38;5;21;01mfunctions\u001b[39;00m \u001b[38;5;28;01mimport\u001b[39;00m lcm\n\u001b[1;32m   3468\u001b[0m x \u001b[38;5;241m=\u001b[39m a \u001b[38;5;241m+\u001b[39m q\u001b[38;5;241m*\u001b[39malpha\u001b[38;5;241m*\u001b[39mpy_scalar_to_element(m)\n",
      "\u001b[0;31mValueError\u001b[0m: no solution to crt problem since gcd(13,13) does not divide 6-10"
     ]
    }
   ],
   "source": [
    "aa = [4, 2]\n",
    "bb = [11, 7]\n",
    "mm = [13, 13]\n",
    "\n",
    "solved_bb = []\n",
    "for a, b, m in zip(aa, bb, mm):\n",
    "    current_bs = solve_lincong(a, b, m)\n",
    "    solved_bb.append(current_bs[-1])\n",
    "\n",
    "crt(solved_bb, mm)"
   ]
  }
 ],
 "metadata": {
  "kernelspec": {
   "argv": [
    "sage-10.4",
    "--python",
    "-m",
    "sage.repl.ipython_kernel",
    "--matplotlib=inline",
    "-f",
    "{connection_file}"
   ],
   "display_name": "SageMath 10.4",
   "env": {
   },
   "language": "sagemath",
   "metadata": {
    "cocalc": {
     "description": "Open-source mathematical software system",
     "priority": 10,
     "url": "https://www.sagemath.org/"
    }
   },
   "name": "sage-10.4",
   "resource_dir": "/ext/jupyter/kernels/sage-10.4"
  },
  "language_info": {
   "codemirror_mode": {
    "name": "ipython",
    "version": 3
   },
   "file_extension": ".py",
   "mimetype": "text/x-python",
   "name": "sage",
   "nbconvert_exporter": "python",
   "pygments_lexer": "ipython3",
   "version": "3.11.9"
  }
 },
 "nbformat": 4,
 "nbformat_minor": 4
}