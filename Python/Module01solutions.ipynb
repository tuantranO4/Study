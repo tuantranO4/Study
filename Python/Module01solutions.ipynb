{
 "cells": [
  {
   "cell_type": "code",
   "execution_count": 2,
   "metadata": {},
   "outputs": [],
   "source": [
    "# assume number is nonnegative integer and base is a positive integer which is greater than 1\n",
    "def get_number_of_digits(number: Integer, base: Integer) -> Integer:\n",
    "    if number == 0:\n",
    "        return 1\n",
    "    \n",
    "    return floor(log(number, base)) + 1\n",
    "\n",
    "assert get_number_of_digits(0, 2) == 1\n",
    "assert get_number_of_digits(1, 10) == 1\n",
    "assert get_number_of_digits(12, 10) == 2\n",
    "assert get_number_of_digits(123, 10) == 3\n",
    "assert get_number_of_digits(10, 10) == 2"
   ]
  },
  {
   "cell_type": "code",
   "execution_count": 14,
   "metadata": {},
   "outputs": [],
   "source": [
    "def get_digits_from_number(number: Integer, base: Integer) -> list[Integer]:\n",
    "    digits = []\n",
    "    while True:\n",
    "        number, digit = divmod(number, base)\n",
    "        digits.append(digit)\n",
    "        if number == 0:\n",
    "            return digits\n",
    "\n",
    "assert get_digits_from_number(0, 2) == [0]\n",
    "assert get_digits_from_number(1, 10) == [1]\n",
    "assert get_digits_from_number(12, 10) == [2, 1]\n",
    "assert get_digits_from_number(123, 10) == [3, 2, 1]"
   ]
  },
  {
   "cell_type": "code",
   "execution_count": 29,
   "metadata": {},
   "outputs": [],
   "source": [
    "def add_via_digits(lhs_digits: list[Integer], rhs_digits: list[Integer], base: Integer) -> list[Integer]:\n",
    "    max_digits = max(len(lhs_digits), len(rhs_digits))\n",
    "    lhs_digits += [0 for _ in range(max_digits - len(lhs_digits))]\n",
    "    rhs_digits += [0 for _ in range(max_digits - len(rhs_digits))]\n",
    "\n",
    "    carry_digit = 0\n",
    "    result_digits = [0 for _ in range(max_digits+1)]\n",
    "    for i in range(max_digits): \n",
    "        carry_digit, result_digits[i] = divmod(lhs_digits[i] + rhs_digits[i] + carry_digit, base)\n",
    "    result_digits[max_digits] = carry_digit\n",
    "\n",
    "    while len(result_digits) > 1 and result_digits[-1] == 0:\n",
    "        result_digits.pop()\n",
    "    \n",
    "    return result_digits\n",
    "\n",
    "for lhs in range(100):\n",
    "    for rhs in range(100):\n",
    "        lhs_digits = get_digits_from_number(lhs, 10)\n",
    "        rhs_digits = get_digits_from_number(rhs, 10)\n",
    "        assert add_via_digits(get_digits_from_number(lhs, 10), get_digits_from_number(rhs, 10), 10) == get_digits_from_number(lhs + rhs, 10)"
   ]
  },
  {
   "cell_type": "code",
   "execution_count": 37,
   "metadata": {},
   "outputs": [],
   "source": [
    "def grade_school_multiplication(lhs_digits: list[Integer], rhs_digits: list[Integer], base: Integer) -> list[Integer]:\n",
    "    result_digits = [0 for _ in range(len(lhs_digits) + len(rhs_digits))]\n",
    "    \n",
    "    for i in range(len(rhs_digits)):\n",
    "        carry_digit = 0\n",
    "        for j in range(len(lhs_digits)):\n",
    "            result_digits[i + j] += lhs_digits[j] * rhs_digits[i] + carry_digit\n",
    "            carry_digit, result_digits[i + j] = divmod(result_digits[i + j], base)\n",
    "        result_digits[i + len(lhs_digits)] = carry_digit\n",
    "\n",
    "    while len(result_digits) > 1 and result_digits[-1] == 0:\n",
    "        result_digits.pop()\n",
    "\n",
    "    return result_digits\n",
    "\n",
    "for lhs in range(100):\n",
    "    for rhs in range(100):\n",
    "        lhs_digits = get_digits_from_number(lhs, 10)\n",
    "        rhs_digits = get_digits_from_number(rhs, 10)\n",
    "        assert grade_school_multiplication(get_digits_from_number(lhs, 10), get_digits_from_number(rhs, 10), 10) == get_digits_from_number(lhs * rhs, 10)"
   ]
  },
  {
   "cell_type": "code",
   "execution_count": 6,
   "metadata": {},
   "outputs": [],
   "source": [
    "def basic_exp(x: Integer, n: Integer) -> Integer:\n",
    "    result = 1\n",
    "    for _ in range(n):\n",
    "        result *= x\n",
    "    return result\n",
    "\n",
    "for x in range(-10, 10):\n",
    "    for n in range(10):\n",
    "        assert basic_exp(x, n) == x ** n"
   ]
  },
  {
   "cell_type": "code",
   "execution_count": 8,
   "metadata": {},
   "outputs": [],
   "source": [
    "def repeated_squaring(x: Integer, k: Integer) -> Integer:\n",
    "    result = x\n",
    "    for _ in range(k):\n",
    "        result *= result\n",
    "    return result\n",
    "\n",
    "for x in range(-10, 10):\n",
    "    for k in range(1, 4):\n",
    "        assert repeated_squaring(x, k) == x ** (2 ** k)"
   ]
  },
  {
   "cell_type": "code",
   "execution_count": 9,
   "metadata": {},
   "outputs": [],
   "source": [
    "def fast_exp(x: Integer, n: Integer) -> Integer:\n",
    "    y = 1\n",
    "    while n > 0:\n",
    "        n, r = divmod(n, 2)\n",
    "        if r == 1:\n",
    "            y *= x\n",
    "        x *= x\n",
    "    return y\n",
    "\n",
    "for x in range(-10, 10):\n",
    "    for n in range(10):\n",
    "        assert fast_exp(x, n) == x ** n"
   ]
  }
 ],
 "metadata": {
  "kernelspec": {
   "display_name": "SageMath 10.4",
   "language": "sage",
   "name": "sagemath"
  },
  "language_info": {
   "codemirror_mode": {
    "name": "ipython",
    "version": 3
   },
   "file_extension": ".py",
   "mimetype": "text/x-python",
   "name": "python",
   "nbconvert_exporter": "python",
   "pygments_lexer": "ipython3",
   "version": "3.11.9"
  }
 },
 "nbformat": 4,
 "nbformat_minor": 2
}
