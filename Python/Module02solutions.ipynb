{
 "cells": [
  {
   "cell_type": "code",
   "execution_count": 1,
   "id": "b3d2dc",
   "metadata": {
    "collapsed": false
   },
   "outputs": [
    {
     "name": "stdout",
     "output_type": "stream",
     "text": [
      "Tests passed\n"
     ]
    }
   ],
   "source": [
    "def number_of_divisors(n: Integer) -> Integer:\n",
    "    result = 1\n",
    "    for _, e in factor(n):\n",
    "        result *= e + 1\n",
    "    return result\n",
    "\n",
    "for n in range(1, 100):\n",
    "    assert number_of_divisors(n) == sigma(n, 0)\n",
    "print('Tests passed')"
   ]
  },
  {
   "cell_type": "code",
   "execution_count": 15,
   "id": "610300",
   "metadata": {
    "collapsed": false
   },
   "outputs": [
    {
     "name": "stdout",
     "output_type": "stream",
     "text": [
      "Tests passed\n"
     ]
    }
   ],
   "source": [
    "def get_divisors(n: Integer) -> list[Integer]:\n",
    "    result = [1]\n",
    "    for p, e in factor(n):\n",
    "        current_factors = [p**k for k in range(e+1)]\n",
    "        current_divisors = []\n",
    "        for d in result:\n",
    "            for a in current_factors:\n",
    "                t = d*a\n",
    "                if t not in result:\n",
    "                    current_divisors.append(t)\n",
    "        result += current_divisors\n",
    "    return result\n",
    "\n",
    "for n in range(1, 100):\n",
    "    assert sorted(get_divisors(n)) == divisors(n)\n",
    "\n",
    "print('Tests passed')"
   ]
  },
  {
   "cell_type": "code",
   "execution_count": 18,
   "id": "670241",
   "metadata": {
    "collapsed": false
   },
   "outputs": [
   ],
   "source": [
    "def sieve_of_eratosthenes(n: Integer) -> list[Integer]:\n",
    "    primes = []\n",
    "    numbers = list(range(2, n+1))\n",
    "\n",
    "    while len(numbers) > 0:\n",
    "        primes.append(numbers.pop(0))\n",
    "        for number in numbers:\n",
    "            if number % primes[-1] == 0:\n",
    "                numbers.remove(number)\n",
    "\n",
    "    return primes\n",
    "\n",
    "assert sieve_of_eratosthenes(20) == list(primes(20))\n",
    "\n",
    "print('Tests passed')"
   ]
  },
  {
   "cell_type": "code",
   "execution_count": 19,
   "id": "c8988d",
   "metadata": {
    "collapsed": false
   },
   "outputs": [
    {
     "name": "stdout",
     "output_type": "stream",
     "text": [
      "Tests passed\n"
     ]
    }
   ],
   "source": [
    "def sieve_of_eratosthenes_odd_only(n: Integer) -> list[Integer]:\n",
    "    primes = [2]\n",
    "    numbers = list(range(3, n+1, 2))\n",
    "\n",
    "    while len(numbers) > 0:\n",
    "        primes.append(numbers.pop(0))\n",
    "        for number in numbers:\n",
    "            if number % primes[-1] == 0:\n",
    "                numbers.remove(number)\n",
    "\n",
    "    return primes\n",
    "\n",
    "assert sieve_of_eratosthenes_odd_only(20) == list(primes(20))\n",
    "\n",
    "print('Tests passed')"
   ]
  },
  {
   "cell_type": "code",
   "execution_count": 4,
   "id": "01aa0b",
   "metadata": {
    "collapsed": false
   },
   "outputs": [
    {
     "name": "stdout",
     "output_type": "stream",
     "text": [
      "Tests passed\n"
     ]
    }
   ],
   "source": [
    "def gcd_via_factors(a : Integer, b : Integer) -> Integer:\n",
    "    fa = factor(a)\n",
    "    fb = factor(b)\n",
    "\n",
    "    d = 1\n",
    "    a_i = 0\n",
    "    b_i = 0\n",
    "\n",
    "    while a_i < len(fa) and b_i < len(fb):\n",
    "        if fa[a_i][0] < fb[b_i][0]:\n",
    "            a_i += 1\n",
    "        elif fa[a_i][0] > fb[b_i][0]:\n",
    "            b_i += 1\n",
    "        else:\n",
    "            d *= fa[a_i][0] ** min(fa[a_i][1], fb[b_i][1])\n",
    "            a_i += 1\n",
    "            b_i += 1\n",
    "    \n",
    "    return d\n",
    "\n",
    "for a in range(2, 100):\n",
    "    for b in range(2, 100):\n",
    "        assert gcd_via_factors(a, b) == gcd(a, b)\n",
    "print('Tests passed')"
   ]
  },
  {
   "cell_type": "code",
   "execution_count": 33,
   "id": "4b9132",
   "metadata": {
    "collapsed": false
   },
   "outputs": [
    {
     "name": "stdout",
     "output_type": "stream",
     "text": [
      "Tests passed\n"
     ]
    }
   ],
   "source": [
    "def lcm_via_factors(a : Integer, b : Integer) -> Integer:\n",
    "    fa = factor(a)\n",
    "    fb = factor(b)\n",
    "\n",
    "    d = 1\n",
    "    a_i = 0\n",
    "    b_i = 0\n",
    "\n",
    "    while a_i < len(fa) or b_i < len(fb):\n",
    "        if b_i == len(fb) or (b_i < len(fb) and a_i < len(fa) and fa[a_i][0] < fb[b_i][0]):\n",
    "            d *= fa[a_i][0] ** fa[a_i][1]\n",
    "            a_i += 1\n",
    "        elif a_i == len(fa) or (b_i < len(fb) and a_i < len(fa) and fa[a_i][0] > fb[b_i][0]):\n",
    "            d *= fb[b_i][0] ** fb[b_i][1]\n",
    "            b_i += 1\n",
    "        elif a_i < len(fa) and b_i < len(fb):\n",
    "            d *= fa[a_i][0] ** max(fa[a_i][1], fb[b_i][1])\n",
    "            a_i += 1\n",
    "            b_i += 1\n",
    "    \n",
    "    return d\n",
    "\n",
    "for a in range(2, 100):\n",
    "    for b in range(2, 100):\n",
    "        assert lcm_via_factors(a, b) == lcm(a, b)\n",
    "print('Tests passed')"
   ]
  },
  {
   "cell_type": "code",
   "execution_count": 1,
   "id": "a0919e",
   "metadata": {
    "collapsed": false
   },
   "outputs": [
   ],
   "source": [
    "def recursive_gcd(a: Integer, b: Integer) -> Integer:\n",
    "    if b == 0:\n",
    "        return a\n",
    "    else:\n",
    "        return recursive_gcd(b, a % b)\n",
    "\n",
    "for a in range(100):\n",
    "    for b in range(100):\n",
    "        assert recursive_gcd(a, b) == gcd(a, b)\n",
    "\n",
    "print('Tests passed')"
   ]
  },
  {
   "cell_type": "code",
   "execution_count": 3,
   "id": "9ba20f",
   "metadata": {
    "collapsed": false
   },
   "outputs": [
    {
     "name": "stdout",
     "output_type": "stream",
     "text": [
      "Tests passed\n"
     ]
    }
   ],
   "source": [
    "def non_recursive_gcd(a: Integer, b: Integer) -> Integer:\n",
    "    ra = a\n",
    "    rb = b\n",
    "\n",
    "    while rb != 0:\n",
    "        ra, rb = rb, ra % rb\n",
    "    \n",
    "    return ra\n",
    "\n",
    "for a in range(100):\n",
    "    for b in range(100):\n",
    "        assert non_recursive_gcd(a, b) == gcd(a, b)\n",
    "\n",
    "print('Tests passed')"
   ]
  },
  {
   "cell_type": "code",
   "execution_count": 25,
   "id": "983f19",
   "metadata": {
    "collapsed": false
   },
   "outputs": [
   ],
   "source": [
    "def extended_euclidean_algorithm(a: Integer, b: Integer) -> (Integer, Integer, Integer):\n",
    "    ra, xa, ya = a, 1, 0\n",
    "    rb, xb, yb = b, 0, 1\n",
    "\n",
    "    while rb != 0:\n",
    "        ra, (q, rb) = rb, divmod(ra, rb)\n",
    "        xa, xb = xb, xa - q*xb\n",
    "        ya, yb = yb, ya - q*yb\n",
    "\n",
    "    return ra, xa, ya\n",
    "\n",
    "for a in range(100):\n",
    "    for b in range(100):\n",
    "        d, x, y = extended_euclidean_algorithm(a, b)\n",
    "        assert d == gcd(a, b)\n",
    "        assert d == a*x + b*y\n",
    "\n",
    "print('Tests passed')"
   ]
  }
 ],
 "metadata": {
  "kernelspec": {
   "argv": [
    "sage-10.4",
    "--python",
    "-m",
    "sage.repl.ipython_kernel",
    "--matplotlib=inline",
    "-f",
    "{connection_file}"
   ],
   "display_name": "SageMath 10.4",
   "env": {
   },
   "language": "sagemath",
   "metadata": {
    "cocalc": {
     "description": "Open-source mathematical software system",
     "priority": 10,
     "url": "https://www.sagemath.org/"
    }
   },
   "name": "sage-10.4",
   "resource_dir": "/ext/jupyter/kernels/sage-10.4"
  },
  "language_info": {
   "codemirror_mode": {
    "name": "ipython",
    "version": 3
   },
   "file_extension": ".py",
   "mimetype": "text/x-python",
   "name": "python",
   "nbconvert_exporter": "python",
   "pygments_lexer": "ipython3",
   "version": "3.11.9"
  }
 },
 "nbformat": 4,
 "nbformat_minor": 4
}