{
 "cells": [
  {
   "cell_type": "markdown",
   "id": "145817",
   "metadata": {
    "collapsed": false
   },
   "source": [
    "# Problem 1 (5 points)\n",
    "\n",
    "The pair $p, p+2$ are twin primes if both are prime number. Write a Sage function that counts all twin primes in a range! The parameter `a, b` are the limits of the range (inclusive). Use `is_prime` from Sage to check for primes.\n"
   ]
  },
  {
   "cell_type": "code",
   "execution_count": 8,
   "id": "c35cd1",
   "metadata": {
    "collapsed": false
   },
   "outputs": [],
   "source": [
    "def count_twin_primes(a: Integer, b: Integer) -> Integer:\n",
    "    return -1"
   ]
  },
  {
   "cell_type": "markdown",
   "id": "768d55",
   "metadata": {
    "collapsed": false
   },
   "source": [
    "# Problem 2 (5 points)\n"
   ]
  },
  {
   "cell_type": "markdown",
   "metadata": {},
   "source": [
    "List the perfect numbers in range $(300,1000).$ \n",
    "\n",
    "A perfect number is a positive integer that is equal to the sum of its positive proper divisors, that is, divisors excluding the number itself. For instance, $6$ has proper divisors $1, 2$ and $3$, and $ 1 + 2 + 3 = 6$, so $6$ is a perfect number."
   ]
  },
  {
   "cell_type": "code",
   "execution_count": 0,
   "id": "5b25dd",
   "metadata": {
    "collapsed": false
   },
   "outputs": [],
   "source": []
  },
  {
   "cell_type": "markdown",
   "id": "f7378d",
   "metadata": {
    "collapsed": false
   },
   "source": [
    "# Problem 3 (5 points)\n",
    "\n",
    "Is it possible to make exactly $100$ units using only $6$ units and $11$ units coins? If so, how many of each coin do you need? Brute force solution (probing all $x,y$) won't yield full points."
   ]
  },
  {
   "cell_type": "code",
   "execution_count": 0,
   "id": "73ef55",
   "metadata": {
    "collapsed": false
   },
   "outputs": [],
   "source": []
  },
  {
   "cell_type": "markdown",
   "id": "6f26c8",
   "metadata": {
    "collapsed": false
   },
   "source": []
  },
  {
   "cell_type": "markdown",
   "metadata": {},
   "source": [
    "## Problem 4 ( 5 points) \n",
    "Solve the following congruence system :\n",
    "\\begin{align*}\n",
    "x & \\equiv 3 \\pmod{5} \\\\\n",
    "4x & \\equiv 2 \\pmod{6} \\\\\n",
    "2x & \\equiv 5 \\pmod{7} \n",
    "\\end{align*}\n"
   ]
  },
  {
   "cell_type": "code",
   "execution_count": 0,
   "id": "936610",
   "metadata": {
    "collapsed": false
   },
   "outputs": [],
   "source": []
  }
 ],
 "metadata": {
  "kernelspec": {
   "argv": [
    "sage-10.4",
    "--python",
    "-m",
    "sage.repl.ipython_kernel",
    "--matplotlib=inline",
    "-f",
    "{connection_file}"
   ],
   "display_name": "SageMath 10.4",
   "env": {},
   "language": "sagemath",
   "metadata": {
    "cocalc": {
     "description": "Open-source mathematical software system",
     "priority": 10,
     "url": "https://www.sagemath.org/"
    }
   },
   "name": "sage-10.4",
   "resource_dir": "/ext/jupyter/kernels/sage-10.4"
  },
  "language_info": {
   "codemirror_mode": {
    "name": "ipython",
    "version": 3
   },
   "file_extension": ".py",
   "mimetype": "text/x-python",
   "name": "python",
   "nbconvert_exporter": "python",
   "pygments_lexer": "ipython3",
   "version": "3.11.9"
  }
 },
 "nbformat": 4,
 "nbformat_minor": 4
}
