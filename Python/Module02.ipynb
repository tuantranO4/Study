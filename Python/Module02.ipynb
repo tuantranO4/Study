{
 "cells": [
  {
   "cell_type": "markdown",
   "id": "cec5cd",
   "metadata": {
    "collapsed": false
   },
   "source": [
    "# M2. Divisibility and primes\n",
    "\n",
    "We are going to turn our attention the the basics of number theory.\n",
    "The focus will be on the integers, but we will abstract away the definitons a bit.\n",
    "Later in the course we are going to learn about polynomials and they have similar structure to the integers from number theoritical point-of-view. There are slight differences that we will highlight, but almost everything will be useable as-is.\n",
    "\n",
    "In this module we will get familiar with the Extended Euclidean Algorithm (EEA).\n",
    "This algorithm will be the most important tool in our hand in the journey through discrete models.\n",
    "The whole course could have been named as Applications of The Extended Euclidean Algortihm."
   ]
  },
  {
   "cell_type": "markdown",
   "id": "30756c",
   "metadata": {
    "collapsed": false
   },
   "source": [
    "## M2.1. Basic defintions\n",
    "\n",
    "We will say that $b$ *divides* $a$, or $a$ is *multiple of* $b$, or $b$ is *divisor of* $a$ if there exists $q$ such that $a=qb$. (Notice that we did not say anything about if $a,b$ and $q$ are integers. But we will assume that they behave like integers.) We will use the notation $b \\mid a$. If there is no such $q$, then $b$ is not a divisor of $a$ and we will use notation $b \\nmid a$. If we perform Euclidean divison, then $a=qb+r$. If $b$ divides $a$, then this means that the remainder $r=0$.\n",
    "\n",
    "In Python/Sage, you can check the divisibility relation by checking the remainder: if $a \\mid b$, then `a % b == 0` is a `True` expression.\n",
    "\n",
    "Some properties:\n",
    "- Since $a0=0$, $a \\mid 0$ for all $a$.\n",
    "- If $0 \\mid a$, then $a=0$. This means that only $0 \\mid 0$.\n",
    "- $1 \\mid a$ for all $a$.\n",
    "- If $b \\mid a$, then $bc \\mid ac$ for all $c$.\n",
    "- If $bc \\mid ac$ and $c=0$, then $b \\mid a$.\n",
    "- If $c \\mid a$ and $c \\mid b$, then $c \\mid \\alpha a + \\beta b$ for all $\\alpha, \\beta$.\n",
    "\n",
    "To be able to illustrate that divisibility can be applied to other structures than the integers, we are going check a pathological, but important example.\n",
    "In case of the rational numbers, if $a,b \\in \\mathbb{Q}$, then $a=qb$ with $q = \\frac{a}{b}$ if $b \\neq 0$.\n",
    "This means every $0 \\neq b \\in \\mathbb{Q}$ divides all $a \\in \\mathbb{Q}$.\n",
    "\n",
    "If $a \\mid b$ and $b \\mid a$, then we say that $a$ and $b$ are *associated elements*.\n",
    "The associated elements of $a \\in \\mathbb{Z}$ are $\\pm a$.\n",
    "Of course, if $0 \\neq a,b \\in \\mathbb{Q}$, then $a$ and $b$ are associated elements.\n",
    "\n",
    "If $a \\mid 1$, then $a$ is a *unit element*. The unit elements of $\\mathbb{Z}$ are $\\pm 1$.\n",
    "Since in $\\mathbb{Q}$ every nonzero divides every element, every nonzero is a unit element.\n",
    "If $a$ and $b$ are associated elements, then $a=\\varepsilon b$, where $\\varepsilon$ is a unit element.\n",
    "\n",
    "If $0 \\neq a = bc$ is only possible if $b$ or $c$ is a unit element (and the other is an associate element of $a$), then $a$ is an *irreducible element*. If an element is not irreducible, then it is a *composite element*. If $0 \\neq p$ is not a unit element and $p \\mid ab$ implies $p \\mid a$ or $p \\mid b$, then $p$ is a *prime element*. When we are talkink about posivite integers, we are going to use the the following names: irreducible number, composite number and prime number.\n",
    "\n",
    "Every prime element is irreducible. The converse is not true in general, but the structures we are studing in this course the converse also holds. In particular, every irredicble element of $\\mathbb{Z}$ is also a prime element of $\\mathbb{Z}$."
   ]
  },
  {
   "cell_type": "markdown",
   "id": "399c2d",
   "metadata": {
    "collapsed": false
   },
   "source": [
    "### M2.1.1 Why Prime Numbers are important?\n",
    "\n",
    "Prime numbers are fundamental in cryptography due to their unique mathematical properties, particularly their role in the difficulty of certain computational problems. In some applications of discrete models like RSA encryption, the security is based on the fact that while multiplying two large prime numbers is computationally simple, factoring their product back into primes is extraordinarily difficult, especially as the primes grow larger. This one-way function (easy to compute but hard to reverse) is essential for encryption and decryption, making it nearly impossible for an attacker to break the encryption without knowing the original primes. This difficulty forms the backbone of many security protocols in real worlds, providing both security and efficiency.\n",
    "\n",
    "Public key cryptography is uses everywhere, even now when you are reading this module, to make the website secure. In public key cryptography, primes are used within modular arithmetic operations, a topic that we are going to explore in future modules during the course. These systems leverage the properties of primes to create secure keys that are resistant to attacks, such as factorization or solving discrete logarithms, because the operations on prime numbers and their modular results are computationally hard to reverse without the secret key. The security strength of these protocols relies on the assumption that finding large primes and performing operations with them is efficient, while breaking down the encryption (e.g., factorizing large composite numbers) remains infeasible for adversaries."
   ]
  },
  {
   "cell_type": "markdown",
   "id": "434305",
   "metadata": {
    "collapsed": false
   },
   "source": [
    "## M2.2 Fundamental Theorem of Arithmetic (FTA)\n",
    "\n",
    "Every positive integer can be written as the product of a list of prime numbers and this list is unique (up to order).\n",
    "\n",
    "The canonical form of $1 < n \\in \\mathbb{Z}$ is $$n=p_1^{\\alpha_1}p_2^{\\alpha_2}\\cdots p_k^{\\alpha_k},$$\n",
    "where $p_j$ are the prime numbers in FTA and $\\alpha_j$ is the *multiplicity* of $p_j$ in the list.\n",
    "The canonical form of positive integer can be computed with the `factor` function in Sage."
   ]
  },
  {
   "cell_type": "code",
   "execution_count": 7,
   "id": "0b88af",
   "metadata": {
    "collapsed": false,
    "vscode": {
     "languageId": "python"
    }
   },
   "outputs": [
    {
     "data": {
      "text/plain": [
       "2^2 * 3"
      ]
     },
     "execution_count": 7,
     "metadata": {
     },
     "output_type": "execute_result"
    }
   ],
   "source": [
    "factor(12)"
   ]
  },
  {
   "cell_type": "markdown",
   "id": "c29567",
   "metadata": {
    "collapsed": false
   },
   "source": [
    "We can extend this theorem to all integers. A nonzero integer which is not a unit can be written as a product of irreducible elements.\n",
    "The list of irreducble elements is unique up to ordering and associativity of the irreducible elements.\n",
    "\n",
    "We are going to use the following convention. If $0 \\neq n \\in \\mathbb{Z}$ a nonunit element, then we can write $$n=\\varepsilon p_1^{\\alpha_1}p_2^{\\alpha_2}\\cdots p_k^{\\alpha_k},$$\n",
    "where $p_j$ are irreducible number, i.e. they are positive, with multiplicity $\\alpha_j$ and $\\varepsilon$ is a unit element.\n",
    "\n",
    "In Sage, if `factor` is called with negative, nonunit integer, then it returns this canonical form we have descibed."
   ]
  },
  {
   "cell_type": "code",
   "execution_count": 2,
   "id": "0cfefd",
   "metadata": {
    "collapsed": false,
    "vscode": {
     "languageId": "python"
    }
   },
   "outputs": [
    {
     "data": {
      "text/plain": [
       "-1 * 2^2 * 3"
      ]
     },
     "execution_count": 2,
     "metadata": {
     },
     "output_type": "execute_result"
    }
   ],
   "source": [
    "factor(-12)"
   ]
  },
  {
   "cell_type": "markdown",
   "id": "7ed804",
   "metadata": {
    "collapsed": false
   },
   "source": [
    "You can extract the unit and list of irreducibles and their exponent:"
   ]
  },
  {
   "cell_type": "code",
   "execution_count": 10,
   "id": "f1d333",
   "metadata": {
    "collapsed": false,
    "vscode": {
     "languageId": "python"
    }
   },
   "outputs": [
    {
     "name": "stdout",
     "output_type": "stream",
     "text": [
      "-1\n",
      "[(2, 2), (3, 1)]\n"
     ]
    }
   ],
   "source": [
    "fs = factor(-12)\n",
    "print(fs.unit())\n",
    "print(list(fs))"
   ]
  },
  {
   "cell_type": "markdown",
   "id": "aba0a1",
   "metadata": {
    "collapsed": false
   },
   "source": [
    "We can also access the individual primes and their exponent:"
   ]
  },
  {
   "cell_type": "code",
   "execution_count": 11,
   "id": "49ecc7",
   "metadata": {
    "collapsed": false,
    "vscode": {
     "languageId": "python"
    }
   },
   "outputs": [
    {
     "data": {
      "text/plain": [
       "(3, 1)"
      ]
     },
     "execution_count": 11,
     "metadata": {
     },
     "output_type": "execute_result"
    }
   ],
   "source": [
    "fs = factor(12)\n",
    "fs[1]"
   ]
  },
  {
   "cell_type": "markdown",
   "id": "d2add7",
   "metadata": {
    "collapsed": false
   },
   "source": [
    "It is also possible to iterate through them:"
   ]
  },
  {
   "cell_type": "code",
   "execution_count": 5,
   "id": "8b66ca",
   "metadata": {
    "collapsed": false,
    "vscode": {
     "languageId": "python"
    }
   },
   "outputs": [
    {
     "name": "stdout",
     "output_type": "stream",
     "text": [
      "2 2\n",
      "3 1\n"
     ]
    }
   ],
   "source": [
    "for p, e in factor(-12):\n",
    "    print(p, e)"
   ]
  },
  {
   "cell_type": "markdown",
   "id": "fc3cea",
   "metadata": {
    "collapsed": false
   },
   "source": [
    "### M2.2.1. Getting familiar with `factor` in Sage\n",
    "\n",
    "We can use the canonical form of positive integers to enumerate or count the number of divisors.\n",
    "Let us work through an example. The canonical form of $28$:"
   ]
  },
  {
   "cell_type": "code",
   "execution_count": 17,
   "id": "28711f",
   "metadata": {
    "collapsed": false,
    "vscode": {
     "languageId": "python"
    }
   },
   "outputs": [
    {
     "data": {
      "text/plain": [
       "2^2 * 7"
      ]
     },
     "execution_count": 17,
     "metadata": {
     },
     "output_type": "execute_result"
    }
   ],
   "source": [
    "factor(28)"
   ]
  },
  {
   "cell_type": "markdown",
   "id": "1a9d3d",
   "metadata": {
    "collapsed": false
   },
   "source": [
    "The list of divisors is $1, 2, 4, 7, 14, 28$. So there are $6$ divisors. Let us check the canonical form of the divisors:"
   ]
  },
  {
   "cell_type": "code",
   "execution_count": 19,
   "id": "59a241",
   "metadata": {
    "collapsed": false,
    "vscode": {
     "languageId": "python"
    }
   },
   "outputs": [
    {
     "name": "stdout",
     "output_type": "stream",
     "text": [
      "1 = 1\n",
      "2 = 2\n",
      "4 = 2^2\n",
      "7 = 7\n",
      "14 = 2 * 7\n",
      "28 = 2^2 * 7\n"
     ]
    }
   ],
   "source": [
    "for divisor in [1, 2, 4, 7, 14, 28]:\n",
    "    print(f'{divisor} = {factor(divisor)}')"
   ]
  },
  {
   "cell_type": "markdown",
   "id": "8397bd",
   "metadata": {
    "collapsed": false
   },
   "source": [
    "We can see that we can write every divisor of $28$ as the product of prime numbers in the canonical form of $28$:\n",
    "- $1 = 2^{0}7^{0}$\n",
    "- $2 = 2^{1}7^{0}$\n",
    "- $4 = 2^{2}7^{0}$\n",
    "- $7 = 2^{0}7^{1}$\n",
    "- $14 = 2^{1}7^{1}$\n",
    "- $28 = 2^{2}7^{1}$\n",
    "\n",
    "The exponents of a specific prime base are between $0$ and the original exponent in $28$'s canonical form.\n",
    "\n",
    "So every $2^{a}7^{b}$ divides $28$ with $a=0,1,2$ and $b=0,1$ and there are $(2+1)(1+1)=6$ divisors.\n",
    "\n",
    "Complete the following two functions in Sage. You can assume that the argument is a positive integer. (From the tests, you can see that Sage has already builtin functions for these procedures.)"
   ]
  },
  {
   "cell_type": "code",
   "execution_count": 0,
   "id": "eb5702",
   "metadata": {
    "collapsed": false,
    "vscode": {
     "languageId": "python"
    }
   },
   "outputs": [
   ],
   "source": [
    "def number_of_divisors(n: Integer) -> Integer:\n",
    "    return 0\n",
    "\n",
    "for n in range(1, 100):\n",
    "    assert number_of_divisors(n) == sigma(n, 0)\n",
    "print('Tests passed')"
   ]
  },
  {
   "cell_type": "code",
   "execution_count": 0,
   "id": "116d86",
   "metadata": {
    "collapsed": false,
    "vscode": {
     "languageId": "python"
    }
   },
   "outputs": [
   ],
   "source": [
    "def get_divisors(n: Integer) -> list[Integer]:\n",
    "    return []\n",
    "\n",
    "for n in range(1, 100):\n",
    "    assert sorted(get_divisors(n)) == divisors(n)\n",
    "\n",
    "print('Tests passed')"
   ]
  },
  {
   "cell_type": "markdown",
   "id": "6fd082",
   "metadata": {
    "collapsed": false
   },
   "source": [
    "## M2.3. Distribution of prime numbers\n",
    "\n",
    "There are infinitly many prime numbers. If there were finitly many and we would multiply them and add one, then the result would not be divisbible by any prime number, since the remainder of Euclidean divison would be one. This means that the Fundemantel Theorem of Arithmetic does not hold. This is a contradiction and the assumption that there finite number of prime numbers must be wrong.\n",
    "\n",
    "Let $n$ be the product of prime numbers up until a specific prime $p$.\n",
    "The numbers $n+2, n+3, \\ldots n+p$ are all composite. (Why?)\n",
    "So we have seen $p-1$ number of consequitve composite numbers.\n",
    "There are infinitly many prime numbers, so the value of $p$ is unbounded.\n",
    "Therefore we can find any number of consequtive composite numbers.\n",
    "The gap between two primes numbers can get arbitary large.\n",
    "\n",
    "Can the gap be as small as possible between two consequtive prime numbers?\n",
    "Since all primes but $2$ is an odd number, the smallest gap possible is two.\n",
    "If the pair $p$ and $p+2$ are both prime numbers, then they are called *twin primes*.\n",
    "The question of whether there exist infinitely many twin primes has been one of the great open questions in number theory for many years.\n",
    "\n",
    "In Sage we can use the function `prime_pi(n)` to get the number of prime numbers up to a specific number `n`, which calculates the value $$\\pi(n) = \\lvert \\left\\{ 2 \\le p \\le n : p\\ \\text{is a prime number}\\right\\} \\rvert.$$"
   ]
  },
  {
   "cell_type": "code",
   "execution_count": 22,
   "id": "f3ff67",
   "metadata": {
    "collapsed": false,
    "vscode": {
     "languageId": "python"
    }
   },
   "outputs": [
    {
     "data": {
      "text/plain": [
       "25"
      ]
     },
     "execution_count": 22,
     "metadata": {
     },
     "output_type": "execute_result"
    }
   ],
   "source": [
    "prime_pi(100)"
   ]
  },
  {
   "cell_type": "markdown",
   "id": "9d40a8",
   "metadata": {
    "collapsed": false
   },
   "source": [
    "To list all prime numbers below a given $n$ integer, we can use sieve of Eratosthenes: list all numbers between $2$ and $n$.\n",
    "The first number $2$ is a prime, so cross out all multiples of two in the list.\n",
    "The next number in the current list is $3$ which is a prime number, so again remove all multiples of $3$ from the list.\n",
    "We can continue this process, until all that is left are the prime numbers up until $n$.\n",
    "\n",
    "Implement sieve of Eratosthenes below. (Again, you can see in the test that Sage already has a function for this process: `primes(n)`.)"
   ]
  },
  {
   "cell_type": "code",
   "execution_count": 0,
   "id": "91e5e7",
   "metadata": {
    "collapsed": false,
    "vscode": {
     "languageId": "python"
    }
   },
   "outputs": [
   ],
   "source": [
    "def sieve_of_eratosthenes(n: Integer) -> list[Integer]:\n",
    "    return []\n",
    "\n",
    "assert sieve_of_eratosthenes(20) == list(primes(20))\n",
    "print('Test passed')"
   ]
  },
  {
   "cell_type": "markdown",
   "id": "b42b7e",
   "metadata": {
    "collapsed": false
   },
   "source": [
    "The problem with this method is that it requires much memory for large $n$.\n",
    "Improve the function above so that you only check odd integers."
   ]
  },
  {
   "cell_type": "code",
   "execution_count": 0,
   "id": "541c8c",
   "metadata": {
    "collapsed": false,
    "vscode": {
     "languageId": "python"
    }
   },
   "outputs": [
   ],
   "source": [
    "def sieve_of_eratosthenes_odd_only(n: Integer) -> list[Integer]:\n",
    "    return []\n",
    "\n",
    "assert sieve_of_eratosthenes_odd_only(20) == list(primes(20))\n",
    "print('Test passed')"
   ]
  },
  {
   "cell_type": "markdown",
   "id": "e00def",
   "metadata": {
    "collapsed": false
   },
   "source": [
    "**NOTE: This excersie below is optional. You can skip it and come back when you finished with the rest.**\n",
    "\n",
    "You can skip all elements that is divisible by $2,3$ and $5$. To achieve this, you can store the numbers in the form of $30i + m_j$ where $1 \\le i \\le \\lceil n / 30 \\rceil$ and $m = (1,7,11,13,17,19,23,29)$ and $0 \\le j < 8$."
   ]
  },
  {
   "cell_type": "code",
   "execution_count": 0,
   "id": "033d3b",
   "metadata": {
    "collapsed": false,
    "vscode": {
     "languageId": "python"
    }
   },
   "outputs": [
   ],
   "source": [
    "def sieve_of_eratosthenes_extra(n: Integer) -> list[Integer]:\n",
    "    return []\n",
    "\n",
    "assert sieve_of_eratosthenes_extra(20) == list(primes(20))\n",
    "print('Test passed')"
   ]
  },
  {
   "cell_type": "markdown",
   "id": "783704",
   "metadata": {
    "collapsed": false
   },
   "source": [
    "To be able to calculate $\\pi(n)$ we need to list all prime numbers up to $n$, which might not be feasible for large $n$.\n",
    "The Prime Number Theorem tells us that we can approximate this number by $$\\pi(n) \\approx \\frac{n}{\\log n}.$$\n",
    "\n",
    "The following plot tries to illustrate how good the approximation is."
   ]
  },
  {
   "cell_type": "code",
   "execution_count": 29,
   "id": "882320",
   "metadata": {
    "collapsed": false,
    "vscode": {
     "languageId": "python"
    }
   },
   "outputs": [
    {
     "data": {
      "image/png": "[encoded data removed]",
      "text/plain": [
       "Graphics object consisting of 2 graphics primitives"
      ]
     },
     "execution_count": 29,
     "metadata": {
     },
     "output_type": "execute_result"
    }
   ],
   "source": [
    "plot(x/log(x), (2, 200), scale='semilogy', fill=lambda x: prime_pi(x),fillcolor='red', title='Number of primes')\n"
   ]
  },
  {
   "cell_type": "markdown",
   "id": "ab3843",
   "metadata": {
    "collapsed": false
   },
   "source": [
    "## M2.4. Greatest common divisor\n",
    "\n",
    "A *greatest common divisor (GCD)* of $a_1,\\ldots,a_n$ elements is $d$ if \n",
    "- $d \\mid a_i$ for all $i=1,\\ldots,n$, i.e. $d$ is a common divisor,\n",
    "- if another $d'$ is a common divisor, then $d' \\mid d$, i.e. $d$ is maximal with respect to divisibility.\n",
    "\n",
    "Notice that this definition does not use the usual ordering, so it will work in structures where there is no ordering, e.g. polynomials.\n",
    "However this definition does not make the GCD of the numbers unique.\n",
    "If $d$ is a greatest common divisor, then every associative elements of $d$ are also greatest common divisors.\n",
    "In case of integers, we will always pick the nonnegative divisor from $\\pm d$.\n",
    "We will use the notation $\\mathrm{gcd}\\left(a_1,\\ldots,a_n\\right)=d$.\n",
    "\n",
    "We will say that the elements $a_1,a_2,\\ldots,a_n$ are *coprime* if their $1$ is their GCD.\n",
    "\n",
    "We will say that $b$ is a *least common multiple (LCM)* of $a_1,\\ldots,a_n$ elements if\n",
    "- $a_i \\mid b$ for all $i=1,\\ldots,n$, i.e. $b$ is a common multiple,\n",
    "- if another $b'$ is a common multiple, then $b \\mid b'$, i.e. $d$ is minimal with respect to divisibility.\n",
    "Again, this is not unique and every associative element of $b$ is also a least common multiple.\n",
    "In case of integers, we will pick the nonnegative.\n",
    "\n",
    "We can use the canonical form of the to compute GCD and LCM.\n",
    "Let us assume that $a=p_1^{\\alpha_1} \\cdots p_k^{\\alpha_k}$ and $b=p_1^{\\beta_1} \\cdots p_k^{\\beta_k}$ in an extended sense, i.e. we allow the exponents to be zero, so the primes are the same. In this case $$\\mathrm{gcd}(a,b)=p_1^{\\min\\left(\\alpha_1, \\beta_1\\right)} \\cdots p_k^{\\min\\left(\\alpha_k, \\beta_k\\right)}$$ and $$\\mathrm{lcm}(a,b)=p_1^{\\max\\left(\\alpha_1, \\beta_1\\right)} \\cdots p_k^{\\max\\left(\\alpha_k, \\beta_k\\right)}.$$\n",
    "For e.g. $12=2^{2}3^{1}5^{0}$ and $40=2^{3}3^{0}5^{1}$ and $$\\mathrm{gcd}(12, 40)=2^{2}3^{0}5^{0}=4$$ and $$\\mathrm{lcm}(12, 40)=2^{3}3^{1}5^{1}=120.$$\n",
    "\n",
    "Complete the Sage functions below that calculate GCD and LCM via the factorization of the arguments."
   ]
  },
  {
   "cell_type": "code",
   "execution_count": 0,
   "id": "b282e3",
   "metadata": {
    "collapsed": false,
    "vscode": {
     "languageId": "python"
    }
   },
   "outputs": [
   ],
   "source": [
    "def gcd_via_factors(a : Integer, b : Integer) -> Integer:\n",
    "    return 1\n",
    "\n",
    "for a in range(2, 100):\n",
    "    for b in range(2, 100):\n",
    "        assert gcd_via_factors(a, b) == gcd(a, b)\n",
    "print('Tests passed')"
   ]
  },
  {
   "cell_type": "code",
   "execution_count": 0,
   "id": "fa41e4",
   "metadata": {
    "collapsed": false,
    "vscode": {
     "languageId": "python"
    }
   },
   "outputs": [
   ],
   "source": [
    "def lcm_via_factors(a : Integer, b : Integer) -> Integer:\n",
    "    return 1\n",
    "\n",
    "for a in range(2, 100):\n",
    "    for b in range(2, 100):\n",
    "        assert lcm_via_factors(a, b) == lcm(a, b)\n",
    "print('Tests passed')"
   ]
  },
  {
   "cell_type": "markdown",
   "id": "181556",
   "metadata": {
    "collapsed": false
   },
   "source": [
    "### M2.4.1. Euclidean algorithm\n",
    "\n",
    "Factorization algorithms can be quite slow. (This is the reason why some cryptography algorithms work.)\n",
    "There is a better algorithm for calculating GCD.\n",
    "\n",
    "We will use the following propreties of GCD:\n",
    "1. $\\mathrm{gcd}(a, 0) = a$, more specifically $\\mathrm{gcd}(0, 0) = 0$.\n",
    "2. $\\mathrm{gcd}(a, b) = \\mathrm{gcd}(b, a)$.\n",
    "3. $\\mathrm{gcd}(a, b) = \\mathrm{gcd}(a-b, b)$. This implies $\\mathrm{gcd}(a, b) = \\mathrm{gcd}(a-qb, b)$ for any $q$. Specifically $\\mathrm{gcd}(a, b) = \\mathrm{gcd}(a \\bmod b, b)$.\n",
    "\n",
    "Let us define the recurrence relation $r_0 = a$, $r_1 = b$ and $r_{n+2} = r_n \\bmod r_{n+1}$ for all $n \\ge 0$ integer.\n",
    "From Property 3 and 4 we can deduce that $$\\mathrm{gcd}(a,b)=\\mathrm{gcd}(r_n, r_{n+1})$$ for all $n\\ge 0$.\n",
    "Let us assume that $a$ and $b$ are nonnegative. (We can always change the signs, it won't affect the GCD.)\n",
    "The sequence $r_n$ is decreasing. (Why?) Also it is bounded below by $0$.\n",
    "This means that there is an index $N$ for which $r_{N} > 0$ and $r_{N+1}=0$.\n",
    "Since $\\mathrm{gcd}(a,b)=\\mathrm{gcd}(r_N, r_{N+1}) = \\mathrm{gcd}(r_N, 0) = r_N$, if we compute the remainder recursively the last non-zero value of the sequence is the greatest common divisor of the arguments.\n",
    "\n",
    "Write a recursive Sage function which calculates the GCD of its nonnegative integer arguments.\n",
    "\n",
    "Hint: You might need to swap the arguments when doing the recusive call."
   ]
  },
  {
   "cell_type": "code",
   "execution_count": 0,
   "id": "94314f",
   "metadata": {
    "collapsed": false,
    "vscode": {
     "languageId": "python"
    }
   },
   "outputs": [
   ],
   "source": [
    "def recursive_gcd(a: Integer, b: Integer) -> Integer:\n",
    "    return 0\n",
    "\n",
    "for a in range(100):\n",
    "    for b in range(100):\n",
    "        assert recursive_gcd(a, b) == gcd(a, b)\n",
    "\n",
    "print('Tests passed')"
   ]
  },
  {
   "cell_type": "markdown",
   "id": "96cc3b",
   "metadata": {
    "collapsed": false
   },
   "source": [
    "Now try to create a non-recursive function which applies the same computation."
   ]
  },
  {
   "cell_type": "code",
   "execution_count": 0,
   "id": "490eb6",
   "metadata": {
    "collapsed": false,
    "vscode": {
     "languageId": "python"
    }
   },
   "outputs": [
   ],
   "source": [
    "def non_recursive_gcd(a: Integer, b: Integer) -> Integer:\n",
    "    return 0\n",
    "\n",
    "for a in range(100):\n",
    "    for b in range(100):\n",
    "        assert non_recursive_gcd(a, b) == gcd(a, b)\n",
    "\n",
    "print('Tests passed')"
   ]
  },
  {
   "cell_type": "markdown",
   "id": "798d85",
   "metadata": {
    "collapsed": false
   },
   "source": [
    "Finally we are ready to introduce the most important algorithm of this module (and probably the whole course).\n",
    "We are going to extend the previous algorithm, which is called Euclidean algorithm to compute some additional values besides the GCD of its arguments..\n",
    "We are going to call it Extended Euclidean Algorithm. (Duh!)\n",
    "\n",
    "It will return additional elements $x,y$ besides the GCD $d$ such that $ax+by=d$, where $a$ and $b$ are the arguments of the function call.\n",
    "To be able to do this, we are going to always maintain the condition $r_n = ax_b + by_n$. For $n=0,1$ it is easy to maintain: let $x_0=1, y_0=0$ and $x_1=0, y_1=1$.\n",
    "\n",
    "Since $r_{n+2} = r_n \\bmod r_{n+1}$, i.e. $$r_{n+2} = r_n -qr_{n+1},$$\n",
    "where $q$ is the quotient of the Euclidean divison.\n",
    "We know that $r_n = ax_n + by_n$ and $r_{n+1} = ax_{n+1} + by_{n+1}$ so $$r_{n+2} = (ax_n + by_n) -qax_{n+1} + by_{n+1}$$\n",
    "which can be rearranged into $$r_{n+2} = a(x_n - qx_{n+1}) + b(y_n - qy_{n+1}).$$\n",
    "From this we can see that from $x_n$ and $x_{n+1}$ we can compute $$x_{n+2} = x_n - qx_{n+1}$$ and from $y_n$ and $y_{n+1}$ we can compute $$y_{n+2} = y_n - qy_{n+1}.$$\n",
    "\n",
    "Extend the non-recursive version of GCD calculation into the Extended Euclidean Algorithm.\n",
    "\n",
    "Note: Sage has builtin version for these algorithms. They are called `gcd` and `xgcd`."
   ]
  },
  {
   "cell_type": "code",
   "execution_count": 0,
   "id": "954731",
   "metadata": {
    "collapsed": false,
    "vscode": {
     "languageId": "python"
    }
   },
   "outputs": [
   ],
   "source": [
    "def extended_euclidean_algorithm(a: Integer, b: Integer) -> (Integer, Integer, Integer):\n",
    "    return 0, 0, 0\n",
    "\n",
    "for a in range(100):\n",
    "    for b in range(100):\n",
    "        d, x, y = extended_euclidean_algorithm(a, b)\n",
    "        assert d == gcd(a, b)\n",
    "        assert d == a*x + b*y\n",
    "\n",
    "print('Tests passed')"
   ]
  }
 ],
 "metadata": {
  "kernelspec": {
   "argv": [
    "sage-10.4",
    "--python",
    "-m",
    "sage.repl.ipython_kernel",
    "--matplotlib=inline",
    "-f",
    "{connection_file}"
   ],
   "display_name": "SageMath 10.4",
   "env": {
   },
   "language": "sagemath",
   "metadata": {
    "cocalc": {
     "description": "Open-source mathematical software system",
     "priority": 10,
     "url": "https://www.sagemath.org/"
    }
   },
   "name": "sage-10.4",
   "resource_dir": "/ext/jupyter/kernels/sage-10.4"
  },
  "language_info": {
   "codemirror_mode": {
    "name": "ipython",
    "version": 3
   },
   "file_extension": ".py",
   "mimetype": "text/x-python",
   "name": "sage",
   "nbconvert_exporter": "python",
   "pygments_lexer": "ipython3",
   "version": "3.11.9"
  }
 },
 "nbformat": 4,
 "nbformat_minor": 4
}