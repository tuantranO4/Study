{
 "cells": [
  {
   "cell_type": "code",
   "execution_count": null,
   "id": "b77104",
   "metadata": {
    "collapsed": false
   },
   "outputs": [],
   "source": [
    "def miller_rabin(n: Integer, rounds: Integer) -> bool: #n-number to test Prime; rounds: higher ->more accurate\n",
    "    assert n % 2 != 0 #check for oddity\n",
    "    q = n - 1\n",
    "    s = 0\n",
    "    while q % 2 == 0: #keep div by 2 until no longer can, count how many times div with s\n",
    "        q //= 2\n",
    "        s += 1\n",
    "    \n",
    "    for _ in range(rounds): #round by round test\n",
    "        a = ZZ.random_element(2, n - 2) #check any random a in rand(), check if n behave like prime\n",
    "        x = pow(a, q, n) # x=1 or n-1 then might be prime\n",
    "        for _ in range(s):\n",
    "            y = (x * x) % n\n",
    "            if y == 1 and x != 1 and x != n-1:\n",
    "                return False\n",
    "            x = y\n",
    "        if y != 1:\n",
    "            return False\n",
    "    return True"
   ]
  }
 ],
 "metadata": {
  "kernelspec": {
   "argv": [
    "sage-10.4",
    "--python",
    "-m",
    "sage.repl.ipython_kernel",
    "--matplotlib=inline",
    "-f",
    "{connection_file}"
   ],
   "display_name": "SageMath 10.4",
   "env": {},
   "language": "sagemath",
   "metadata": {
    "cocalc": {
     "description": "Open-source mathematical software system",
     "priority": 10,
     "url": "https://www.sagemath.org/"
    }
   },
   "name": "sage-10.4",
   "resource_dir": "/ext/jupyter/kernels/sage-10.4"
  },
  "language_info": {
   "codemirror_mode": {
    "name": "ipython",
    "version": 3
   },
   "file_extension": ".py",
   "mimetype": "text/x-python",
   "name": "python",
   "nbconvert_exporter": "python",
   "pygments_lexer": "ipython3",
   "version": "3.11.9"
  }
 },
 "nbformat": 4,
 "nbformat_minor": 4
}
