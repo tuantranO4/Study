{
 "cells": [
  {
   "cell_type": "code",
   "execution_count": 0,
   "id": "a53cb3",
   "metadata": {
    "collapsed": false,
    "trusted": true,
    "vscode": {
     "languageId": "python"
    }
   },
   "outputs": [
   ],
   "source": [
    "import random\n",
    "def dh_public_parameters(b: Integer)->tuple[Integer, Integer]:\n",
    " \n",
    "  public_parameter=[]\n",
    "  while true:\n",
    "   q=(random_prime(2^(b - 1),2^(b-2)))\n",
    "   \n",
    "   p=2*q+1\n",
    "   if (is_prime(p) and ceil(math.log2(p))==b):\n",
    "        break\n",
    "  \n",
    "  F= GF(p)\n",
    "  g = F.multiplicative_generator()\n",
    "  return p,g\n",
    "number_of_bits = 128 # you can use a smaller bits, for testing e.g. 4 bit should yield 11 which is a safe prime, 2*5 + 1\n",
    "safe_prime, primitive_element = dh_public_parameters(number_of_bits)\n",
    "print(safe_prime, primitive_element)"
   ]
  },
  {
   "cell_type": "code",
   "execution_count": 0,
   "id": "cf08d7",
   "metadata": {
    "collapsed": false,
    "trusted": true,
    "vscode": {
     "languageId": "python"
    }
   },
   "outputs": [
   ],
   "source": [
    "import random\n",
    "def dh_keypair(safe_prime: Integer, primitive_element: Integer) -> tuple[Integer, Integer]:\n",
    "\n",
    "    \n",
    "    private_key = random.randint(1, safe_prime - 1)\n",
    "   \n",
    "    public_key = pow(primitive_element, private_key , safe_prime)\n",
    "    return [ private_key , public_key ]\n",
    "\n",
    "alice_private_key, alice_public_key = dh_keypair(safe_prime, primitive_element)\n",
    "bob_private_key, bob_public_key = dh_keypair(safe_prime, primitive_element)\n",
    "print(alice_private_key, alice_public_key)\n",
    "print(bob_private_key, bob_public_key)"
   ]
  },
  {
   "cell_type": "code",
   "execution_count": 0,
   "id": "eb1696",
   "metadata": {
    "collapsed": false,
    "trusted": true,
    "vscode": {
     "languageId": "python"
    }
   },
   "outputs": [
   ],
   "source": [
    "def dh_sharedkey(safe_prime: Integer, primitive_element: Integer, own_private_key: Integer, other_public_key: Integer) -> Integer:\n",
    "  \n",
    "    private_shared_key= pow(other_public_key, own_private_key, safe_prime)\n",
    "    return private_shared_key\n",
    "\n",
    "alice_shared_key = dh_sharedkey(safe_prime, primitive_element, alice_private_key, bob_public_key)\n",
    "bob_shared_key = dh_sharedkey(safe_prime, primitive_element, bob_private_key, alice_public_key)\n",
    "print(alice_shared_key,bob_shared_key )\n",
    "assert alice_shared_key == bob_shared_key"
   ]
  },
  {
   "cell_type": "code",
   "execution_count": 0,
   "id": "0fd6e8",
   "metadata": {
    "collapsed": false,
    "trusted": true,
    "vscode": {
     "languageId": "python"
    }
   },
   "outputs": [
   ],
   "source": [
    "number_of_bits = 512 # this can encrypt messages m up to 2**512\n",
    "p= random_prime(2^(number_of_bits//2),2^(number_of_bits//2 )+1)\n",
    "q =random_prime(2^(number_of_bits),2^(number_of_bits//2+1))\n",
    "\n",
    "n = p*q\n",
    "while (p == q or ceil(math.log2(n)<number_of_bits) ):\n",
    "        q = random_prime(2^(number_of_bits),2^(number_of_bits//2+1))\n",
    "        n = p*q\n",
    "\n",
    "\n",
    "e = 65537\n",
    "\n",
    "public_key = n, e\n",
    "print('public_key',public_key)"
   ]
  },
  {
   "cell_type": "code",
   "execution_count": 0,
   "id": "bf29e3",
   "metadata": {
    "collapsed": false,
    "trusted": true,
    "vscode": {
     "languageId": "python"
    }
   },
   "outputs": [
   ],
   "source": [
    "message = ZZ.random_element(1, 2**number_of_bits)\n",
    "print('message:',message)\n",
    "n,e=public_key\n",
    "cipher = pow(message,e,n)\n",
    "print('cipher',cipher)"
   ]
  },
  {
   "cell_type": "code",
   "execution_count": 0,
   "id": "13bcab",
   "metadata": {
    "collapsed": false,
    "trusted": true,
    "vscode": {
     "languageId": "python"
    }
   },
   "outputs": [
   ],
   "source": [
    "phi_n = (p - 1) * (q - 1)\n",
    "d = inverse_mod(e, phi_n)\n",
    "private_key=n,d\n",
    "decrypted_message = pow(cipher,d,n)\n",
    "print(decrypted_message )\n",
    "assert message == decrypted_message"
   ]
  },
  {
   "cell_type": "code",
   "execution_count": 0,
   "id": "1fb3af",
   "metadata": {
    "collapsed": false,
    "trusted": true,
    "vscode": {
     "languageId": "python"
    }
   },
   "outputs": [
   ],
   "source": [
    "d_p=d%(p-1)\n",
    "d_q=d%(q-1)\n",
    "q_p =pow(q,-1,p)\n",
    "\n",
    "m1 =pow(cipher,d_p,p)\n",
    "m2 = pow(cipher,d_q,q)\n",
    "m=crt(m1,m2,p,q)\n",
    "print('m:',m)"
   ]
  },
  {
   "cell_type": "code",
   "execution_count": 0,
   "id": "35a240",
   "metadata": {
    "collapsed": false,
    "trusted": true,
    "vscode": {
     "languageId": "python"
    }
   },
   "outputs": [
   ],
   "source": [
    "import hashlib\n",
    "\n",
    "message = \"test message\"\n",
    "print(hashlib.sha256().digest_size) # in bytes\n",
    "hash = int(hashlib.sha256(message.encode()).hexdigest(), 16)\n",
    "print(hash)"
   ]
  },
  {
   "cell_type": "code",
   "execution_count": 0,
   "id": "4eeb72",
   "metadata": {
    "collapsed": false,
    "trusted": true,
    "vscode": {
     "languageId": "python"
    }
   },
   "outputs": [
   ],
   "source": [
    "import hashlib\n",
    "def find_generator(p, q):\n",
    "    for g in range(2, p):\n",
    "        if pow(g, q, p) == 1:  # g^q mod p = 1\n",
    "            \n",
    "            return g\n",
    "    raise ValueError(\"No valid generator found!\")\n",
    "\n",
    "number_of_bits = 8 * hashlib.sha256().digest_size\n",
    "\n",
    "# Step 1: Generate q  and p\n",
    "q = random_prime(2^number_of_bits  - 1, 2^(number_of_bits  - 1))\n",
    "print('q:',q)\n",
    "k=2\n",
    "while True:\n",
    "     p = k * q + 1\n",
    "     if is_prime(p):\n",
    "            break\n",
    "     k +=1\n",
    "print('p:',p)\n",
    "\n",
    "\n",
    "# Step 2: Select a primitive element \n",
    "g =find_generator(p,q)\n",
    "print('g:',g)  \n",
    "\n",
    "# Step 3: Generate private key x and public key y\n",
    "x = randint(1, q - 1)  \n",
    "private_key = x\n",
    "print('x:',x)\n",
    "\n",
    "# Step 4: Generate public key y\n",
    "y = pow(g, x, p) \n",
    "public_key=p,q,g,y\n",
    "print('y:',y)"
   ]
  },
  {
   "cell_type": "code",
   "execution_count": 0,
   "id": "a04351",
   "metadata": {
    "collapsed": false,
    "trusted": true,
    "vscode": {
     "languageId": "python"
    }
   },
   "outputs": [
   ],
   "source": [
    "import random\n",
    "message = 'egy aprócska kalapocska, benne csacska macska mocska'\n",
    "# Step 1: Choose a random k\n",
    "k = random.randint(1, q - 1)\n",
    "\n",
    "# Step 2: Compute r\n",
    "r = mod(pow(g, k, p), q)\n",
    "\n",
    "# Step 3: Compute the modular inverse k_inv\n",
    "k_inv = inverse_mod(k, q)\n",
    "\n",
    "#  Hash the message \n",
    "h =  int(hashlib.sha256(message.encode()).hexdigest(), 16) %q\n",
    "\n",
    "# Step 4: Compute  s\n",
    "s =( k_inv * (h + x * r)) % q\n",
    "signature=r,s\n",
    "print('signature:',signature)"
   ]
  },
  {
   "cell_type": "code",
   "execution_count": 0,
   "id": "9c3e36",
   "metadata": {
    "collapsed": false,
    "trusted": true,
    "vscode": {
     "languageId": "python"
    }
   },
   "outputs": [
   ],
   "source": [
    "from sympy import mod_inverse\n",
    "r, s = signature\n",
    "p, q, g,y = public_key\n",
    "# Step 1: Compute w = s^(-1) mod q\n",
    "w=mod_inverse(s, q)\n",
    "    \n",
    "# Step 2: Compute the hash of the message and u1\n",
    "h = int(hashlib.sha256(message.encode()).hexdigest(), 16) % q\n",
    "\n",
    "    \n",
    "u1 = (h * w) % q\n",
    "\n",
    "# Step 3: Compute  u2\n",
    "u2 = (r * w) % q\n",
    "    \n",
    "# Step 4: Compute v = (g^u1 * y^u2 mod p) mod q\n",
    "v = (pow(g, u1, p) * pow(y, u2, p)) % p % q\n",
    "    \n",
    "print(v==r)"
   ]
  },
  {
   "cell_type": "code",
   "execution_count": 0,
   "id": "f74732",
   "metadata": {
    "collapsed": false,
    "trusted": true,
    "vscode": {
     "languageId": "python"
    }
   },
   "outputs": [
   ],
   "source": [
   ]
  }
 ],
 "metadata": {
  "kernelspec": {
   "argv": [
    "sage",
    "-python",
    "-m",
    "ipykernel",
    "--HistoryManager.enabled=False",
    "--matplotlib=inline",
    "-c",
    "%config InlineBackend.figure_formats = set(['retina'])\nimport matplotlib; matplotlib.rcParams['figure.figsize'] = (12, 7)",
    "-f",
    "{connection_file}"
   ],
   "display_name": "Python 3 (SageMath)",
   "env": {
   },
   "language": "python",
   "metadata": {
    "cocalc": {
     "description": "The Python 3 interpreter included in SageMath",
     "priority": 1,
     "url": "https://www.python.org/"
    }
   },
   "name": "python3-sage",
   "resource_dir": "/ext/jupyter/kernels/python3-sage"
  },
  "language_info": {
   "name": ""
  }
 },
 "nbformat": 4,
 "nbformat_minor": 4
}